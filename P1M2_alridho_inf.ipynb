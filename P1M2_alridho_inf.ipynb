{
 "cells": [
  {
   "cell_type": "markdown",
   "metadata": {},
   "source": [
    "## Perkenalan"
   ]
  },
  {
   "cell_type": "markdown",
   "metadata": {},
   "source": [
    "```\n",
    "=======================================================================================================================================\n",
    "Milestone 2 (Phase 1)\n",
    "\n",
    "Nama  : Achmed Alridho Zulkarnaen\n",
    "Batch : RMT-037\n",
    "\n",
    "File ipynb ini berisikan inference testing untuk model classification yang sudah di buat untuk memprediksi churn.\n",
    "=======================================================================================================================================\n",
    "```"
   ]
  },
  {
   "cell_type": "markdown",
   "metadata": {},
   "source": [
    "## Import Library"
   ]
  },
  {
   "cell_type": "code",
   "execution_count": 1,
   "metadata": {},
   "outputs": [],
   "source": [
    "import pickle\n",
    "import json\n",
    "import pandas as pd\n",
    "import numpy as np"
   ]
  },
  {
   "cell_type": "markdown",
   "metadata": {},
   "source": [
    "## Load Model"
   ]
  },
  {
   "cell_type": "code",
   "execution_count": 2,
   "metadata": {},
   "outputs": [],
   "source": [
    "with open('best_dt_model.pkl', 'rb') as file_1:\n",
    "  model = pickle.load(file_1)"
   ]
  },
  {
   "cell_type": "markdown",
   "metadata": {},
   "source": [
    "## Membuat df Dari Data Baru"
   ]
  },
  {
   "cell_type": "code",
   "execution_count": 3,
   "metadata": {},
   "outputs": [
    {
     "data": {
      "text/html": [
       "<div>\n",
       "<style scoped>\n",
       "    .dataframe tbody tr th:only-of-type {\n",
       "        vertical-align: middle;\n",
       "    }\n",
       "\n",
       "    .dataframe tbody tr th {\n",
       "        vertical-align: top;\n",
       "    }\n",
       "\n",
       "    .dataframe thead th {\n",
       "        text-align: right;\n",
       "    }\n",
       "</style>\n",
       "<table border=\"1\" class=\"dataframe\">\n",
       "  <thead>\n",
       "    <tr style=\"text-align: right;\">\n",
       "      <th></th>\n",
       "      <th>RowNumber</th>\n",
       "      <th>CustomerId</th>\n",
       "      <th>Surname</th>\n",
       "      <th>CreditScore</th>\n",
       "      <th>Geography</th>\n",
       "      <th>Gender</th>\n",
       "      <th>Age</th>\n",
       "      <th>Tenure</th>\n",
       "      <th>Balance</th>\n",
       "      <th>NumOfProducts</th>\n",
       "      <th>HasCrCard</th>\n",
       "      <th>IsActiveMember</th>\n",
       "      <th>EstimatedSalary</th>\n",
       "    </tr>\n",
       "  </thead>\n",
       "  <tbody>\n",
       "    <tr>\n",
       "      <th>0</th>\n",
       "      <td>1</td>\n",
       "      <td>15634602</td>\n",
       "      <td>Hargrave</td>\n",
       "      <td>619.0</td>\n",
       "      <td>France</td>\n",
       "      <td>Female</td>\n",
       "      <td>42</td>\n",
       "      <td>2.0</td>\n",
       "      <td>0.00</td>\n",
       "      <td>1</td>\n",
       "      <td>1</td>\n",
       "      <td>1</td>\n",
       "      <td>101348.88</td>\n",
       "    </tr>\n",
       "    <tr>\n",
       "      <th>1</th>\n",
       "      <td>2</td>\n",
       "      <td>15628320</td>\n",
       "      <td>Walker</td>\n",
       "      <td>792.0</td>\n",
       "      <td>France</td>\n",
       "      <td>Female</td>\n",
       "      <td>28</td>\n",
       "      <td>4.0</td>\n",
       "      <td>130142.79</td>\n",
       "      <td>1</td>\n",
       "      <td>1</td>\n",
       "      <td>0</td>\n",
       "      <td>38190.78</td>\n",
       "    </tr>\n",
       "    <tr>\n",
       "      <th>2</th>\n",
       "      <td>3</td>\n",
       "      <td>15628321</td>\n",
       "      <td>Alridho</td>\n",
       "      <td>NaN</td>\n",
       "      <td>Germany</td>\n",
       "      <td>Male</td>\n",
       "      <td>24</td>\n",
       "      <td>NaN</td>\n",
       "      <td>150000.00</td>\n",
       "      <td>2</td>\n",
       "      <td>0</td>\n",
       "      <td>0</td>\n",
       "      <td>NaN</td>\n",
       "    </tr>\n",
       "  </tbody>\n",
       "</table>\n",
       "</div>"
      ],
      "text/plain": [
       "   RowNumber  CustomerId   Surname  CreditScore Geography  Gender  Age  \\\n",
       "0          1    15634602  Hargrave        619.0    France  Female   42   \n",
       "1          2    15628320    Walker        792.0    France  Female   28   \n",
       "2          3    15628321   Alridho          NaN   Germany    Male   24   \n",
       "\n",
       "   Tenure    Balance  NumOfProducts  HasCrCard  IsActiveMember  \\\n",
       "0     2.0       0.00              1          1               1   \n",
       "1     4.0  130142.79              1          1               0   \n",
       "2     NaN  150000.00              2          0               0   \n",
       "\n",
       "   EstimatedSalary  \n",
       "0        101348.88  \n",
       "1         38190.78  \n",
       "2              NaN  "
      ]
     },
     "execution_count": 3,
     "metadata": {},
     "output_type": "execute_result"
    }
   ],
   "source": [
    "df_inf = pd.DataFrame({\n",
    "    'RowNumber': [1, 2, 3],\n",
    "    'CustomerId': [15634602, 15628320, 15628321],\n",
    "    'Surname': ['Hargrave', 'Walker', 'Alridho'],\n",
    "    'CreditScore': [619, 792, np.nan],\n",
    "    'Geography': ['France', 'France', 'Germany'],\n",
    "    'Gender': ['Female', 'Female', 'Male'],\n",
    "    'Age': [42, 28, 24],\n",
    "    'Tenure': [2, 4, np.nan],\n",
    "    'Balance': [0, 130142.790, 150000],\n",
    "    'NumOfProducts': [1, 1, 2],\n",
    "    'HasCrCard': [1, 1, 0],\n",
    "    'IsActiveMember': [1, 0, 0],\n",
    "    'EstimatedSalary': [101348.880, 38190.780, np.nan]\n",
    "})\n",
    "df_inf"
   ]
  },
  {
   "cell_type": "code",
   "execution_count": 5,
   "metadata": {},
   "outputs": [
    {
     "name": "stdout",
     "output_type": "stream",
     "text": [
      "   CustomerId   Surname Prediction\n",
      "0    15634602  Hargrave      Churn\n",
      "1    15628320    Walker  Not Churn\n",
      "2    15628321   Alridho  Not Churn\n"
     ]
    }
   ],
   "source": [
    "# Melakukan prediksi\n",
    "y_pred_inf = model.predict(df_inf)\n",
    "\n",
    "# Mengubah hasil prediksi menjadi label\n",
    "predicted_labels = ['Churn' if pred == 1 else 'Not Churn' for pred in y_pred_inf]\n",
    "\n",
    "# Menampilkan hasil prediksi\n",
    "df_inf['Prediction'] = predicted_labels\n",
    "print(df_inf[['CustomerId', 'Surname', 'Prediction']])"
   ]
  }
 ],
 "metadata": {
  "kernelspec": {
   "display_name": "base",
   "language": "python",
   "name": "python3"
  },
  "language_info": {
   "codemirror_mode": {
    "name": "ipython",
    "version": 3
   },
   "file_extension": ".py",
   "mimetype": "text/x-python",
   "name": "python",
   "nbconvert_exporter": "python",
   "pygments_lexer": "ipython3",
   "version": "3.12.3"
  }
 },
 "nbformat": 4,
 "nbformat_minor": 2
}
